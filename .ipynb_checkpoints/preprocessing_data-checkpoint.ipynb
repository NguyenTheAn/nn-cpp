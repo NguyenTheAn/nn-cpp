{
 "cells": [
  {
   "cell_type": "code",
   "execution_count": 17,
   "id": "ec65511b-48fc-4d74-be8e-8c14253adcb7",
   "metadata": {},
   "outputs": [],
   "source": [
    "def to_one_hot(y):\n",
    "    vec = ['0' for i in range(10)]\n",
    "    vec[int(y)] = '1'\n",
    "    \n",
    "    str_onehot = ''\n",
    "    for i in vec:\n",
    "        str_onehot += i + ' '\n",
    "    return str_onehot"
   ]
  },
  {
   "cell_type": "code",
   "execution_count": 31,
   "id": "5c76977e-5585-40e2-b285-cc9da3debae2",
   "metadata": {},
   "outputs": [],
   "source": [
    "def convert_to_cpp_form(input_path, output_data_path, output_label_path):\n",
    "    with open (input_path, 'r') as f:\n",
    "        data = f.read().split(\"\\n\")[21:][:-1]\n",
    "\n",
    "    cpp_data = ''\n",
    "    cpp_label = ''\n",
    "    for i in range(len(data)):\n",
    "        if (i + 1) % 33 != 0:\n",
    "            for j in data[i]:\n",
    "                cpp_data += j + ' '\n",
    "        else:\n",
    "            cpp_label += to_one_hot(data[i][1])\n",
    "            cpp_data += '\\n'\n",
    "            \n",
    "    with open (output_data_path, \"w\") as f:\n",
    "        f.write(cpp_data[:-1])\n",
    "    with open (output_label_path, \"w\") as f:\n",
    "        f.write(cpp_label[:-1])"
   ]
  },
  {
   "cell_type": "code",
   "execution_count": 32,
   "id": "dd510d87-c1d0-4cc6-9642-1811247b3181",
   "metadata": {},
   "outputs": [],
   "source": [
    "convert_to_cpp_form(input_path=\"data/optdigits-orig.tra\",\n",
    "                    output_data_path=\"data/train_data.txt\",\n",
    "                    output_label_path=\"data/train_label.txt\")\n",
    "# convert_to_cpp_form(input_path=\"data/optdigits-orig.cv\",\n",
    "#                     output_path=\"data/valid_cpp.txt\")"
   ]
  },
  {
   "cell_type": "code",
   "execution_count": 42,
   "id": "be9f5d42-c39c-42e1-b0a6-e2cf885158d7",
   "metadata": {},
   "outputs": [],
   "source": [
    "with open (\"data/optdigits-orig.cv\", 'r') as f:\n",
    "    data = f.read().split(\"\\n\")[21:][:-1]\n",
    "\n",
    "cpp_data = ''\n",
    "cpp_label = ''\n",
    "for i in range(len(data)):\n",
    "    if (i + 1) % 33 != 0:\n",
    "        for j in data[i]:\n",
    "            cpp_data += j + ' '\n",
    "    else:\n",
    "        cpp_label += data[i][1:] + ' '\n",
    "        cpp_data += '\\n'"
   ]
  },
  {
   "cell_type": "code",
   "execution_count": 43,
   "id": "3ad50219-09c2-4a11-b382-862e8df92c69",
   "metadata": {},
   "outputs": [],
   "source": [
    "valid_data = cpp_data.split(\"\\n\")[:500]\n",
    "test_data = cpp_data.split(\"\\n\")[500:]\n",
    "\n",
    "valid_label = cpp_label.split(\" \")[:500]\n",
    "test_label = cpp_label.split(\" \")[500:]"
   ]
  },
  {
   "cell_type": "code",
   "execution_count": 44,
   "id": "acaa702d-2c20-42ef-87b7-512c5eedfa66",
   "metadata": {},
   "outputs": [],
   "source": [
    "cpp_data = ''\n",
    "for row in valid_data:\n",
    "    cpp_data += row + \"\\n\"\n",
    "with open (\"data/valid_data.txt\", \"w\") as f:\n",
    "    f.write(cpp_data[:-2])\n",
    "        \n",
    "        \n",
    "cpp_label = ''\n",
    "for row in valid_label:\n",
    "    cpp_label += to_one_hot(row)\n",
    "with open (\"data/valid_label.txt\", \"w\") as f:\n",
    "    f.write(cpp_label[:-2])\n",
    "    \n",
    "cpp_data = ''\n",
    "for row in test_data:\n",
    "    cpp_data += row + \"\\n\"\n",
    "with open (\"data/test_data.txt\", \"w\") as f:\n",
    "    f.write(cpp_data[:-2])\n",
    "    \n",
    "cpp_label = ''\n",
    "for row in test_label[:-1]:\n",
    "    cpp_label += to_one_hot(row)\n",
    "with open (\"data/test_label.txt\", \"w\") as f:\n",
    "    f.write(cpp_label[:-2])"
   ]
  },
  {
   "cell_type": "code",
   "execution_count": 47,
   "id": "185a9d8b-85a1-4e1a-bb6d-e9f45f960e37",
   "metadata": {},
   "outputs": [],
   "source": [
    "with open (\"data/test_label.txt\", \"r\") as f:\n",
    "    data = f.read()"
   ]
  },
  {
   "cell_type": "code",
   "execution_count": 48,
   "id": "e1a4eb46-03b3-4e0f-8f3d-710fdab8dc9f",
   "metadata": {},
   "outputs": [
    {
     "data": {
      "text/plain": [
       "4460"
      ]
     },
     "execution_count": 48,
     "metadata": {},
     "output_type": "execute_result"
    }
   ],
   "source": [
    "len(data.split(\" \"))"
   ]
  }
 ],
 "metadata": {
  "kernelspec": {
   "display_name": "Python 3",
   "language": "python",
   "name": "python3"
  },
  "language_info": {
   "codemirror_mode": {
    "name": "ipython",
    "version": 3
   },
   "file_extension": ".py",
   "mimetype": "text/x-python",
   "name": "python",
   "nbconvert_exporter": "python",
   "pygments_lexer": "ipython3",
   "version": "3.7.10"
  }
 },
 "nbformat": 4,
 "nbformat_minor": 5
}
