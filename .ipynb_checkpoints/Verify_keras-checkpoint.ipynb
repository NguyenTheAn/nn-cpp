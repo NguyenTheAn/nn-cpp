{
 "cells": [
  {
   "cell_type": "code",
   "execution_count": 63,
   "id": "c35ab58a-10eb-4f86-b735-a1abd7677707",
   "metadata": {},
   "outputs": [],
   "source": [
    "import numpy as np"
   ]
  },
  {
   "cell_type": "code",
   "execution_count": 64,
   "id": "10846339-5157-4ef2-9560-1a79f7f2e121",
   "metadata": {},
   "outputs": [],
   "source": [
    "def load_data(data_path, data_length):\n",
    "    with open (data_path, \"r\") as f:\n",
    "        data = f.read()\n",
    "    int_data = [int(i) for i in data.split(\" \") if len(i) > 0]\n",
    "    data = []\n",
    "    for i in range(0, len(int_data), data_length):\n",
    "        data.append(int_data[i:(i+data_length)])\n",
    "    return np.array(data)"
   ]
  },
  {
   "cell_type": "code",
   "execution_count": 65,
   "id": "76233035-fa57-4476-88b1-dcd09b92b932",
   "metadata": {},
   "outputs": [],
   "source": [
    "X_train = load_data(\"data/train_data.txt\", 1024)\n",
    "X_valid = load_data(\"data/valid_data.txt\", 1024)\n",
    "X_test = load_data(\"data/test_data.txt\", 1024)\n",
    "\n",
    "y_train = load_data(\"data/train_label.txt\", 10)\n",
    "y_valid = load_data(\"data/valid_label.txt\", 10)\n",
    "y_test = load_data(\"data/test_label.txt\", 10)"
   ]
  },
  {
   "cell_type": "code",
   "execution_count": null,
   "id": "34b58ad2-96fb-402d-bf3a-2a99c80a5449",
   "metadata": {},
   "outputs": [],
   "source": []
  },
  {
   "cell_type": "code",
   "execution_count": null,
   "id": "fe39a4f8-4f9e-4a28-832a-b96dd6297906",
   "metadata": {},
   "outputs": [],
   "source": []
  }
 ],
 "metadata": {
  "kernelspec": {
   "display_name": "Python 3",
   "language": "python",
   "name": "python3"
  },
  "language_info": {
   "codemirror_mode": {
    "name": "ipython",
    "version": 3
   },
   "file_extension": ".py",
   "mimetype": "text/x-python",
   "name": "python",
   "nbconvert_exporter": "python",
   "pygments_lexer": "ipython3",
   "version": "3.7.10"
  }
 },
 "nbformat": 4,
 "nbformat_minor": 5
}
