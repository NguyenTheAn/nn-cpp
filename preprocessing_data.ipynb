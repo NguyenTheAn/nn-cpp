{
 "cells": [
  {
   "cell_type": "code",
   "execution_count": 1,
   "id": "ec65511b-48fc-4d74-be8e-8c14253adcb7",
   "metadata": {},
   "outputs": [],
   "source": [
    "def to_one_hot(y, size):\n",
    "    vec = ['0' for i in range(size)]\n",
    "    vec[int(y)] = '1'\n",
    "    \n",
    "    str_onehot = ''\n",
    "    for i in vec:\n",
    "        str_onehot += i + ' '\n",
    "    return str_onehot"
   ]
  },
  {
   "cell_type": "code",
   "execution_count": 2,
   "id": "5c76977e-5585-40e2-b285-cc9da3debae2",
   "metadata": {},
   "outputs": [],
   "source": [
    "def convert_to_cpp_form(input_path, output_data_path, output_label_path):\n",
    "    with open (input_path, 'r') as f:\n",
    "        data = f.read().split(\"\\n\")[21:][:-1]\n",
    "\n",
    "    cpp_data = ''\n",
    "    cpp_label = ''\n",
    "    for i in range(len(data)):\n",
    "        if (i + 1) % 33 != 0:\n",
    "            for j in data[i]:\n",
    "                cpp_data += j + ' '\n",
    "        else:\n",
    "            cpp_label += to_one_hot(data[i][1], 10)\n",
    "            cpp_data += '\\n'\n",
    "            \n",
    "    with open (output_data_path, \"w\") as f:\n",
    "        f.write(cpp_data[:-1])\n",
    "    with open (output_label_path, \"w\") as f:\n",
    "        f.write(cpp_label[:-1])"
   ]
  },
  {
   "cell_type": "code",
   "execution_count": 63,
   "id": "dd510d87-c1d0-4cc6-9642-1811247b3181",
   "metadata": {},
   "outputs": [],
   "source": [
    "convert_to_cpp_form(input_path=\"data/optdigits-orig.tra\",\n",
    "                    output_data_path=\"data/train_data.txt\",\n",
    "                    output_label_path=\"data/train_label.txt\")\n",
    "# convert_to_cpp_form(input_path=\"data/optdigits-orig.cv\",\n",
    "#                     output_path=\"data/valid_cpp.txt\")"
   ]
  },
  {
   "cell_type": "code",
   "execution_count": 64,
   "id": "be9f5d42-c39c-42e1-b0a6-e2cf885158d7",
   "metadata": {},
   "outputs": [],
   "source": [
    "with open (\"data/optdigits-orig.cv\", 'r') as f:\n",
    "    data = f.read().split(\"\\n\")[21:][:-1]\n",
    "\n",
    "cpp_data = ''\n",
    "cpp_label = ''\n",
    "for i in range(len(data)):\n",
    "    if (i + 1) % 33 != 0:\n",
    "        for j in data[i]:\n",
    "            cpp_data += j + ' '\n",
    "    else:\n",
    "        cpp_label += data[i][1:] + ' '\n",
    "        cpp_data += '\\n'"
   ]
  },
  {
   "cell_type": "code",
   "execution_count": 65,
   "id": "3ad50219-09c2-4a11-b382-862e8df92c69",
   "metadata": {},
   "outputs": [],
   "source": [
    "valid_data = cpp_data.split(\"\\n\")[:500]\n",
    "test_data = cpp_data.split(\"\\n\")[500:]\n",
    "\n",
    "valid_label = cpp_label.split(\" \")[:500]\n",
    "test_label = cpp_label.split(\" \")[500:]"
   ]
  },
  {
   "cell_type": "code",
   "execution_count": 66,
   "id": "acaa702d-2c20-42ef-87b7-512c5eedfa66",
   "metadata": {},
   "outputs": [],
   "source": [
    "cpp_data = ''\n",
    "for row in valid_data:\n",
    "    cpp_data += row\n",
    "with open (\"data/valid_data.txt\", \"w\") as f:\n",
    "    f.write(cpp_data)\n",
    "        \n",
    "        \n",
    "cpp_label = ''\n",
    "for row in valid_label:\n",
    "    cpp_label += to_one_hot(row, 10)\n",
    "with open (\"data/valid_label.txt\", \"w\") as f:\n",
    "    f.write(cpp_label)\n",
    "    \n",
    "cpp_data = ''\n",
    "for row in test_data:\n",
    "    cpp_data += row\n",
    "with open (\"data/test_data.txt\", \"w\") as f:\n",
    "    f.write(cpp_data)\n",
    "    \n",
    "cpp_label = ''\n",
    "for row in test_label[:-1]:\n",
    "    cpp_label += to_one_hot(row, 10)\n",
    "with open (\"data/test_label.txt\", \"w\") as f:\n",
    "    f.write(cpp_label)"
   ]
  },
  {
   "cell_type": "code",
   "execution_count": 67,
   "id": "185a9d8b-85a1-4e1a-bb6d-e9f45f960e37",
   "metadata": {},
   "outputs": [],
   "source": [
    "with open (\"data/test_label.txt\", \"r\") as f:\n",
    "    data = f.read()"
   ]
  },
  {
   "cell_type": "code",
   "execution_count": null,
   "id": "790ec780-7943-4c86-85b1-c3453d488c73",
   "metadata": {},
   "outputs": [],
   "source": []
  },
  {
   "cell_type": "code",
   "execution_count": null,
   "id": "47b0bc54-40d6-4439-9717-b01690b7f719",
   "metadata": {},
   "outputs": [],
   "source": []
  },
  {
   "cell_type": "code",
   "execution_count": null,
   "id": "9279db57-197b-4670-9805-3edb424deb17",
   "metadata": {},
   "outputs": [],
   "source": []
  },
  {
   "cell_type": "code",
   "execution_count": null,
   "id": "66cc8712-69f6-4b76-aab9-dd8a24093d34",
   "metadata": {},
   "outputs": [],
   "source": []
  },
  {
   "cell_type": "code",
   "execution_count": null,
   "id": "60f93090-0540-42e9-bc6b-917b81a75acb",
   "metadata": {},
   "outputs": [],
   "source": []
  },
  {
   "cell_type": "code",
   "execution_count": 70,
   "id": "e42aa110-239c-463b-9c22-f3cc7c54f5c6",
   "metadata": {},
   "outputs": [],
   "source": [
    "with open(\"data/spambase.data\", 'r') as f:\n",
    "    data = f.read().split(\"\\n\")[:-1]"
   ]
  },
  {
   "cell_type": "code",
   "execution_count": 71,
   "id": "66c74ea1-198d-45f8-b1c4-1135e3235150",
   "metadata": {},
   "outputs": [],
   "source": [
    "X = []\n",
    "Y = []\n",
    "for row in data:\n",
    "    X.append([float(i) for i in row.split(\",\")[:-1]])\n",
    "    Y.append(to_one_hot(row.split(\",\")[-1], 2))"
   ]
  },
  {
   "cell_type": "code",
   "execution_count": 88,
   "id": "37ee5443-afcb-4e30-955f-4a66837540bb",
   "metadata": {},
   "outputs": [],
   "source": [
    "from sklearn.model_selection import train_test_split\n",
    "\n",
    "X_train, X_val_test, y_train, y_val_test = train_test_split(X, Y, test_size=0.4)\n",
    "X_val, X_test, y_val, y_test = train_test_split(X_val_test, y_val_test, test_size=0.5)"
   ]
  },
  {
   "cell_type": "code",
   "execution_count": 36,
   "id": "e70219e6-fb18-442d-96f3-c67faf59b3b3",
   "metadata": {},
   "outputs": [],
   "source": [
    "def convert_spam_to_cpp(data, output_path):\n",
    "    cpp_data = ''\n",
    "    for sample in data:\n",
    "        for feat in sample:\n",
    "            if len(str(feat)) > 0:\n",
    "                cpp_data += str(feat) + \" \"\n",
    "    with open (output_path, 'w') as f:\n",
    "        f.write(cpp_data)\n",
    "\n",
    "def convert_spam_to_label_cpp(label, output_path):\n",
    "    cpp_data = ''\n",
    "    for sample in label:\n",
    "        cpp_data += sample\n",
    "    with open (output_path, 'w') as f:\n",
    "        f.write(cpp_data)"
   ]
  },
  {
   "cell_type": "code",
   "execution_count": 113,
   "id": "aaeccfd4-b01a-41ad-bfaa-286d2913b052",
   "metadata": {},
   "outputs": [],
   "source": [
    "convert_spam_to_cpp(X_train, 'data/spam_train_data.txt')\n",
    "convert_spam_to_cpp(X_val, 'data/spam_valid_data.txt')\n",
    "convert_spam_to_cpp(X_test, 'data/spam_test_data.txt')\n",
    "\n",
    "convert_spam_to_label_cpp(y_train, 'data/spam_train_label.txt')\n",
    "convert_spam_to_label_cpp(y_val, 'data/spam_valid_label.txt')\n",
    "convert_spam_to_label_cpp(y_test, 'data/spam_test_label.txt')"
   ]
  },
  {
   "cell_type": "code",
   "execution_count": 116,
   "id": "4c12d305-3973-416b-aeea-07f2e154df80",
   "metadata": {},
   "outputs": [],
   "source": [
    "with open ('data/spam_train_label.txt', 'r') as f:\n",
    "    data = f.read()"
   ]
  },
  {
   "cell_type": "code",
   "execution_count": null,
   "id": "b956874d-8424-404f-85fa-0431466f1d36",
   "metadata": {},
   "outputs": [],
   "source": []
  },
  {
   "cell_type": "code",
   "execution_count": null,
   "id": "d1fb3824-84bf-45a6-a4c7-67ae7b3fd7b4",
   "metadata": {},
   "outputs": [],
   "source": []
  },
  {
   "cell_type": "code",
   "execution_count": null,
   "id": "8497c5fe-72c5-400a-86ab-7586998f827e",
   "metadata": {},
   "outputs": [],
   "source": []
  },
  {
   "cell_type": "code",
   "execution_count": 29,
   "id": "ecf802a7-e9a7-4916-af34-ec6557d8d2e0",
   "metadata": {},
   "outputs": [],
   "source": [
    "with open(\"data/letter-recognition.data\", 'r') as f:\n",
    "    data = f.read().split(\"\\n\")[:-1]"
   ]
  },
  {
   "cell_type": "code",
   "execution_count": 30,
   "id": "eaa94133-31fc-4adf-b677-edbeacc37348",
   "metadata": {},
   "outputs": [
    {
     "data": {
      "text/plain": [
       "'A,4,9,6,6,2,9,5,3,1,8,1,8,2,7,2,8'"
      ]
     },
     "execution_count": 30,
     "metadata": {},
     "output_type": "execute_result"
    }
   ],
   "source": [
    "data[-1]"
   ]
  },
  {
   "cell_type": "code",
   "execution_count": 31,
   "id": "d19ee373-e4c7-4431-a660-4a8ebb1570b4",
   "metadata": {},
   "outputs": [],
   "source": [
    "letters = ['A', 'B', 'C', 'D', 'E', 'F', 'G', 'H', 'I', 'J', 'K', 'L', 'M', 'N', 'O', 'P', 'Q', 'R', 'S', 'T', 'U', 'V', 'W', 'X', 'Y', 'Z']\n",
    "mapping = {}\n",
    "for i in range(len(letters)):\n",
    "    mapping[letters[i]] =  i"
   ]
  },
  {
   "cell_type": "code",
   "execution_count": 32,
   "id": "b30bcfe2-daeb-4611-acfc-dfb03500ee5e",
   "metadata": {},
   "outputs": [],
   "source": [
    "X = []\n",
    "Y = []\n",
    "for row in data:\n",
    "    X.append([float(i) for i in row.split(\",\")[1:]])\n",
    "    Y.append(to_one_hot(mapping[row.split(\",\")[0]], 26))"
   ]
  },
  {
   "cell_type": "code",
   "execution_count": 154,
   "id": "43a8d620-89b6-47d6-b208-b8fd7ecc250d",
   "metadata": {},
   "outputs": [],
   "source": [
    "from sklearn.model_selection import train_test_split\n",
    "\n",
    "X_train, X_val_test, y_train, y_val_test = train_test_split(X, Y, test_size=0.4)\n",
    "X_val, X_test, y_val, y_test = train_test_split(X_val_test, y_val_test, test_size=0.5)"
   ]
  },
  {
   "cell_type": "code",
   "execution_count": 155,
   "id": "b487118b-298e-4207-8fae-63698b5b58cb",
   "metadata": {},
   "outputs": [],
   "source": [
    "convert_spam_to_cpp(X_train, 'data/letter_train_data.txt')\n",
    "convert_spam_to_cpp(X_val, 'data/letter_valid_data.txt')\n",
    "convert_spam_to_cpp(X_test, 'data/letter_test_data.txt')\n",
    "\n",
    "convert_spam_to_label_cpp(y_train, 'data/letter_train_label.txt')\n",
    "convert_spam_to_label_cpp(y_val, 'data/letter_valid_label.txt')\n",
    "convert_spam_to_label_cpp(y_test, 'data/letter_test_label.txt')"
   ]
  },
  {
   "cell_type": "code",
   "execution_count": 166,
   "id": "c2f766ce-18a3-482c-aaa5-9cf3974579cc",
   "metadata": {},
   "outputs": [],
   "source": [
    "with open ('data/letter_valid_data.txt', 'r') as f:\n",
    "    data = f.read()"
   ]
  },
  {
   "cell_type": "code",
   "execution_count": 164,
   "id": "65cf7f8d-6b10-4709-8a46-8293a6919e2b",
   "metadata": {},
   "outputs": [
    {
     "data": {
      "text/plain": [
       "4000"
      ]
     },
     "execution_count": 164,
     "metadata": {},
     "output_type": "execute_result"
    }
   ],
   "source": [
    "len(X_val)"
   ]
  },
  {
   "cell_type": "code",
   "execution_count": 55,
   "id": "2c61ebca-3e66-4617-ad18-b63c10bdf568",
   "metadata": {},
   "outputs": [],
   "source": [
    "with open(\"data/mushroom.data\", 'r') as f:\n",
    "    data = f.read().split(\"\\n\")[:-1]"
   ]
  },
  {
   "cell_type": "code",
   "execution_count": 56,
   "id": "dcd6b8df-1d62-461c-a58d-cf7c9de4af43",
   "metadata": {},
   "outputs": [
    {
     "data": {
      "text/plain": [
       "23"
      ]
     },
     "execution_count": 56,
     "metadata": {},
     "output_type": "execute_result"
    }
   ],
   "source": [
    "len(data[0].split(\",\"))"
   ]
  },
  {
   "cell_type": "code",
   "execution_count": 57,
   "id": "096fbc7f-d639-4913-931c-a0f6969e2ce6",
   "metadata": {},
   "outputs": [],
   "source": [
    "import pandas as pd"
   ]
  },
  {
   "cell_type": "code",
   "execution_count": 58,
   "id": "684204d4-a622-4557-8312-0809576bd071",
   "metadata": {},
   "outputs": [
    {
     "name": "stdout",
     "output_type": "stream",
     "text": [
      "[0, 1, 2, 3, 4, 5, 6, 7, 8, 9, 10, 11, 12, 13, 14, 15, 16, 17, 18, 19, 20, 21, 22]\n"
     ]
    }
   ],
   "source": [
    "print([i for i in range(23)])"
   ]
  },
  {
   "cell_type": "code",
   "execution_count": 59,
   "id": "4f1bf63e-2472-4ca4-b1ae-745d2c21315c",
   "metadata": {
    "tags": []
   },
   "outputs": [],
   "source": [
    "columns = [str(i) for i in range(23)]\n",
    "df = pd.read_csv(\"data/mushroom.data\", sep=',')"
   ]
  },
  {
   "cell_type": "code",
   "execution_count": 60,
   "id": "9428657e-5f48-4fac-b3af-2bc61e55a0b6",
   "metadata": {},
   "outputs": [],
   "source": [
    "data = pd.get_dummies(df.iloc[:, 1:]).values"
   ]
  },
  {
   "cell_type": "code",
   "execution_count": 61,
   "id": "8dfef7b4-41b8-4a94-bbca-53411751853b",
   "metadata": {},
   "outputs": [
    {
     "data": {
      "text/plain": [
       "array([1, 0, 0, ..., 0, 1, 0])"
      ]
     },
     "execution_count": 61,
     "metadata": {},
     "output_type": "execute_result"
    }
   ],
   "source": [
    "label"
   ]
  },
  {
   "cell_type": "code",
   "execution_count": 62,
   "id": "36c570ba-1119-48ae-96e9-6b51e466a13a",
   "metadata": {},
   "outputs": [],
   "source": [
    "label = df['0'].map({'e': 0, 'p': 1}).values\n",
    "\n",
    "labels = [to_one_hot(l, 2) for l in label]"
   ]
  },
  {
   "cell_type": "code",
   "execution_count": 63,
   "id": "c2453182-d87a-45b6-b03c-add18329b081",
   "metadata": {},
   "outputs": [],
   "source": [
    "from sklearn.model_selection import train_test_split\n",
    "\n",
    "X_train, X_val_test, y_train, y_val_test = train_test_split(data, labels, test_size=0.4)\n",
    "X_val, X_test, y_val, y_test = train_test_split(X_val_test, y_val_test, test_size=0.5)"
   ]
  },
  {
   "cell_type": "code",
   "execution_count": 64,
   "id": "1b153a25-563e-471d-8a75-26a0682dc03a",
   "metadata": {},
   "outputs": [
    {
     "data": {
      "text/plain": [
       "(4874, 117)"
      ]
     },
     "execution_count": 64,
     "metadata": {},
     "output_type": "execute_result"
    }
   ],
   "source": [
    "X_train.shape"
   ]
  },
  {
   "cell_type": "code",
   "execution_count": 65,
   "id": "a5516bcc-733d-4845-9355-c1d38e607683",
   "metadata": {},
   "outputs": [],
   "source": [
    "convert_spam_to_cpp(X_train, 'data/mushroom_train_data.txt')\n",
    "convert_spam_to_cpp(X_val, 'data/mushroom_valid_data.txt')\n",
    "convert_spam_to_cpp(X_test, 'data/mushroom_test_data.txt')"
   ]
  },
  {
   "cell_type": "code",
   "execution_count": 66,
   "id": "33d00710-9e2a-49a0-a640-8910e1378296",
   "metadata": {},
   "outputs": [],
   "source": [
    "convert_spam_to_label_cpp(y_train, 'data/mushroom_train_label.txt')\n",
    "convert_spam_to_label_cpp(y_val, 'data/mushroom_valid_label.txt')\n",
    "convert_spam_to_label_cpp(y_test, 'data/mushroom_test_label.txt')"
   ]
  },
  {
   "cell_type": "code",
   "execution_count": 67,
   "id": "869e64cc-1934-4626-8fde-ef4629fedcf0",
   "metadata": {},
   "outputs": [],
   "source": [
    "with open ('data/mushroom_valid_data.txt', 'r') as f:\n",
    "    data = f.read()"
   ]
  },
  {
   "cell_type": "code",
   "execution_count": 72,
   "id": "186966e7-e053-4a78-8c45-72a5530c9b7b",
   "metadata": {},
   "outputs": [
    {
     "data": {
      "text/plain": [
       "1625"
      ]
     },
     "execution_count": 72,
     "metadata": {},
     "output_type": "execute_result"
    }
   ],
   "source": [
    "len(X_test)"
   ]
  },
  {
   "cell_type": "code",
   "execution_count": null,
   "id": "5dd21e57-8863-41b9-8586-d15bbd3b04de",
   "metadata": {},
   "outputs": [],
   "source": []
  }
 ],
 "metadata": {
  "kernelspec": {
   "display_name": "Python 3",
   "language": "python",
   "name": "python3"
  },
  "language_info": {
   "codemirror_mode": {
    "name": "ipython",
    "version": 3
   },
   "file_extension": ".py",
   "mimetype": "text/x-python",
   "name": "python",
   "nbconvert_exporter": "python",
   "pygments_lexer": "ipython3",
   "version": "3.7.10"
  }
 },
 "nbformat": 4,
 "nbformat_minor": 5
}
